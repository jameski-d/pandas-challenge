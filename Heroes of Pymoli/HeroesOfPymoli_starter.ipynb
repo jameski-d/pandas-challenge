{
 "cells": [
  {
   "cell_type": "markdown",
   "metadata": {},
   "source": [
    "### Heroes Of Pymoli Data Analysis\n",
    "* Of the 1163 active players, the vast majority are male (84%). There also exists, a smaller, but notable proportion of female players (14%).\n",
    "\n",
    "* Our peak age demographic falls between 20-24 (44.8%) with secondary groups falling between 15-19 (18.60%) and 25-29 (13.4%).  \n",
    "-----"
   ]
  },
  {
   "cell_type": "markdown",
   "metadata": {},
   "source": [
    "### Note\n",
    "* Instructions have been included for each segment. You do not have to follow them exactly, but they are included to help you think through the steps."
   ]
  },
  {
   "cell_type": "code",
   "execution_count": 1,
   "metadata": {},
   "outputs": [],
   "source": [
    "# Dependencies and Setup\n",
    "import pandas as pd\n",
    "import numpy as np\n",
    "\n",
    "# File to Load (Remember to Change These)\n",
    "file_to_load = \"Resources/purchase_data.csv\"\n",
    "\n",
    "# Read Purchasing File and store into Pandas data frame\n",
    "purchase_data = pd.read_csv(file_to_load)"
   ]
  },
  {
   "cell_type": "markdown",
   "metadata": {},
   "source": [
    "## Player Count"
   ]
  },
  {
   "cell_type": "markdown",
   "metadata": {},
   "source": [
    "* Display the total number of players\n"
   ]
  },
  {
   "cell_type": "code",
   "execution_count": 2,
   "metadata": {},
   "outputs": [
    {
     "data": {
      "text/plain": [
       "576"
      ]
     },
     "execution_count": 2,
     "metadata": {},
     "output_type": "execute_result"
    }
   ],
   "source": [
    "#pullings columns from purchase_data for player_demographics data set\n",
    "player_demographics = purchase_data.loc[:, [\"Gender\",\"SN\",\"Age\"]]\n",
    "\n",
    "#dropping duplicate players\n",
    "player_demographics = player_demographics.drop_duplicates()\n",
    "\n",
    "#counting the num of players\n",
    "total_players = player_demographics.count()[0]\n",
    "\n",
    "#display the output of number of total players\n",
    "total_players"
   ]
  },
  {
   "cell_type": "code",
   "execution_count": 19,
   "metadata": {},
   "outputs": [
    {
     "data": {
      "text/html": [
       "<div>\n",
       "<style scoped>\n",
       "    .dataframe tbody tr th:only-of-type {\n",
       "        vertical-align: middle;\n",
       "    }\n",
       "\n",
       "    .dataframe tbody tr th {\n",
       "        vertical-align: top;\n",
       "    }\n",
       "\n",
       "    .dataframe thead th {\n",
       "        text-align: right;\n",
       "    }\n",
       "</style>\n",
       "<table border=\"1\" class=\"dataframe\">\n",
       "  <thead>\n",
       "    <tr style=\"text-align: right;\">\n",
       "      <th></th>\n",
       "      <th>Purchase ID</th>\n",
       "      <th>SN</th>\n",
       "      <th>Age</th>\n",
       "      <th>Gender</th>\n",
       "      <th>Item ID</th>\n",
       "      <th>Item Name</th>\n",
       "      <th>Price</th>\n",
       "    </tr>\n",
       "  </thead>\n",
       "  <tbody>\n",
       "    <tr>\n",
       "      <td>0</td>\n",
       "      <td>0</td>\n",
       "      <td>Lisim78</td>\n",
       "      <td>20</td>\n",
       "      <td>Male</td>\n",
       "      <td>108</td>\n",
       "      <td>Extraction, Quickblade Of Trembling Hands</td>\n",
       "      <td>3.53</td>\n",
       "    </tr>\n",
       "    <tr>\n",
       "      <td>1</td>\n",
       "      <td>1</td>\n",
       "      <td>Lisovynya38</td>\n",
       "      <td>40</td>\n",
       "      <td>Male</td>\n",
       "      <td>143</td>\n",
       "      <td>Frenzied Scimitar</td>\n",
       "      <td>1.56</td>\n",
       "    </tr>\n",
       "    <tr>\n",
       "      <td>2</td>\n",
       "      <td>2</td>\n",
       "      <td>Ithergue48</td>\n",
       "      <td>24</td>\n",
       "      <td>Male</td>\n",
       "      <td>92</td>\n",
       "      <td>Final Critic</td>\n",
       "      <td>4.88</td>\n",
       "    </tr>\n",
       "    <tr>\n",
       "      <td>3</td>\n",
       "      <td>3</td>\n",
       "      <td>Chamassasya86</td>\n",
       "      <td>24</td>\n",
       "      <td>Male</td>\n",
       "      <td>100</td>\n",
       "      <td>Blindscythe</td>\n",
       "      <td>3.27</td>\n",
       "    </tr>\n",
       "    <tr>\n",
       "      <td>4</td>\n",
       "      <td>4</td>\n",
       "      <td>Iskosia90</td>\n",
       "      <td>23</td>\n",
       "      <td>Male</td>\n",
       "      <td>131</td>\n",
       "      <td>Fury</td>\n",
       "      <td>1.44</td>\n",
       "    </tr>\n",
       "  </tbody>\n",
       "</table>\n",
       "</div>"
      ],
      "text/plain": [
       "   Purchase ID             SN  Age Gender  Item ID  \\\n",
       "0            0        Lisim78   20   Male      108   \n",
       "1            1    Lisovynya38   40   Male      143   \n",
       "2            2     Ithergue48   24   Male       92   \n",
       "3            3  Chamassasya86   24   Male      100   \n",
       "4            4      Iskosia90   23   Male      131   \n",
       "\n",
       "                                   Item Name  Price  \n",
       "0  Extraction, Quickblade Of Trembling Hands   3.53  \n",
       "1                          Frenzied Scimitar   1.56  \n",
       "2                               Final Critic   4.88  \n",
       "3                                Blindscythe   3.27  \n",
       "4                                       Fury   1.44  "
      ]
     },
     "execution_count": 19,
     "metadata": {},
     "output_type": "execute_result"
    }
   ],
   "source": [
    "#display the purchase_data data set for reference\n",
    "pd.set_option('display.max_rows',None)\n",
    "df = pd.DataFrame(purchase_data)\n",
    "df.head()"
   ]
  },
  {
   "cell_type": "markdown",
   "metadata": {},
   "source": [
    "## Purchasing Analysis (Total)"
   ]
  },
  {
   "cell_type": "markdown",
   "metadata": {},
   "source": [
    "* Run basic calculations to obtain number of unique items, average price, etc.\n",
    "\n",
    "\n",
    "* Create a summary data frame to hold the results\n",
    "\n",
    "\n",
    "* Optional: give the displayed data cleaner formatting\n",
    "\n",
    "\n",
    "* Total Number of Purchases\n",
    "\n",
    "\n",
    "* Display the summary data frame\n"
   ]
  },
  {
   "cell_type": "code",
   "execution_count": 4,
   "metadata": {
    "scrolled": true
   },
   "outputs": [
    {
     "data": {
      "text/html": [
       "<div>\n",
       "<style scoped>\n",
       "    .dataframe tbody tr th:only-of-type {\n",
       "        vertical-align: middle;\n",
       "    }\n",
       "\n",
       "    .dataframe tbody tr th {\n",
       "        vertical-align: top;\n",
       "    }\n",
       "\n",
       "    .dataframe thead th {\n",
       "        text-align: right;\n",
       "    }\n",
       "</style>\n",
       "<table border=\"1\" class=\"dataframe\">\n",
       "  <thead>\n",
       "    <tr style=\"text-align: right;\">\n",
       "      <th></th>\n",
       "      <th>Unique Items</th>\n",
       "      <th>Average Price of Items</th>\n",
       "      <th>Total Revenue</th>\n",
       "      <th>Number of items sold</th>\n",
       "    </tr>\n",
       "  </thead>\n",
       "  <tbody>\n",
       "    <tr>\n",
       "      <td>0</td>\n",
       "      <td>179</td>\n",
       "      <td>3.050987</td>\n",
       "      <td>2379.77</td>\n",
       "      <td>780</td>\n",
       "    </tr>\n",
       "  </tbody>\n",
       "</table>\n",
       "</div>"
      ],
      "text/plain": [
       "   Unique Items  Average Price of Items  Total Revenue  Number of items sold\n",
       "0           179                3.050987        2379.77                   780"
      ]
     },
     "execution_count": 4,
     "metadata": {},
     "output_type": "execute_result"
    }
   ],
   "source": [
    "# obtain number of unique items\n",
    "unique_items = len(purchase_data[\"Item ID\"].unique())\n",
    "\n",
    "# obtain the average price of every item sold\n",
    "average_price = purchase_data[\"Price\"].mean()\n",
    "\n",
    "# calculating the total revenue from all sales\n",
    "total_revenue = purchase_data[\"Price\"].sum()\n",
    "\n",
    "# calculating the number of items sold\n",
    "item_count = purchase_data[\"Price\"].count()\n",
    "\n",
    "# create a summary table for calculations found\n",
    "summary_table = pd.DataFrame({\"Unique Items\":unique_items,\n",
    "                              \"Average Price of Items\":[average_price], \"Total Revenue\":[total_revenue], \n",
    "                             \"Number of items sold\":[item_count]})\n",
    "\n",
    "# display the summary table\n",
    "summary_table"
   ]
  },
  {
   "cell_type": "markdown",
   "metadata": {},
   "source": [
    "## Gender Demographics"
   ]
  },
  {
   "cell_type": "markdown",
   "metadata": {},
   "source": [
    "* Percentage and Count of Male Players\n",
    "\n",
    "\n",
    "* Percentage and Count of Female Players\n",
    "\n",
    "\n",
    "* Percentage and Count of Other / Non-Disclosed\n",
    "\n",
    "\n"
   ]
  },
  {
   "cell_type": "code",
   "execution_count": 5,
   "metadata": {},
   "outputs": [
    {
     "data": {
      "text/html": [
       "<div>\n",
       "<style scoped>\n",
       "    .dataframe tbody tr th:only-of-type {\n",
       "        vertical-align: middle;\n",
       "    }\n",
       "\n",
       "    .dataframe tbody tr th {\n",
       "        vertical-align: top;\n",
       "    }\n",
       "\n",
       "    .dataframe thead th {\n",
       "        text-align: right;\n",
       "    }\n",
       "</style>\n",
       "<table border=\"1\" class=\"dataframe\">\n",
       "  <thead>\n",
       "    <tr style=\"text-align: right;\">\n",
       "      <th></th>\n",
       "      <th>Total Count</th>\n",
       "      <th>Percent</th>\n",
       "    </tr>\n",
       "  </thead>\n",
       "  <tbody>\n",
       "    <tr>\n",
       "      <td>Male</td>\n",
       "      <td>484</td>\n",
       "      <td>84.027778</td>\n",
       "    </tr>\n",
       "    <tr>\n",
       "      <td>Female</td>\n",
       "      <td>81</td>\n",
       "      <td>14.062500</td>\n",
       "    </tr>\n",
       "    <tr>\n",
       "      <td>Other / Non-Disclosed</td>\n",
       "      <td>11</td>\n",
       "      <td>1.909722</td>\n",
       "    </tr>\n",
       "  </tbody>\n",
       "</table>\n",
       "</div>"
      ],
      "text/plain": [
       "                       Total Count    Percent\n",
       "Male                           484  84.027778\n",
       "Female                          81  14.062500\n",
       "Other / Non-Disclosed           11   1.909722"
      ]
     },
     "execution_count": 5,
     "metadata": {},
     "output_type": "execute_result"
    }
   ],
   "source": [
    "# create a variable that holds gender demographic total numbers\n",
    "gender_demo_totals = player_demographics[\"Gender\"].value_counts()\n",
    "\n",
    "# create a variable that holds gender demographics as a percentage\n",
    "gender_demo_percent = gender_demo_totals/total_players*100\n",
    "\n",
    "# create a summary table for gender demo info\n",
    "gender_demo = pd.DataFrame({\"Total Count\":gender_demo_totals,\n",
    "                              \"Percent\":gender_demo_percent})\n",
    "\n",
    "# display the summary table\n",
    "gender_demo"
   ]
  },
  {
   "cell_type": "markdown",
   "metadata": {},
   "source": [
    "\n",
    "## Purchasing Analysis (Gender)"
   ]
  },
  {
   "cell_type": "markdown",
   "metadata": {},
   "source": [
    "* Run basic calculations to obtain purchase count, avg. purchase price, avg. purchase total per person etc. by gender\n",
    "\n",
    "\n",
    "\n",
    "\n",
    "* Create a summary data frame to hold the results\n",
    "\n",
    "\n",
    "* Optional: give the displayed data cleaner formatting\n",
    "\n",
    "\n",
    "* Display the summary data frame"
   ]
  },
  {
   "cell_type": "code",
   "execution_count": 24,
   "metadata": {},
   "outputs": [
    {
     "data": {
      "text/html": [
       "<div>\n",
       "<style scoped>\n",
       "    .dataframe tbody tr th:only-of-type {\n",
       "        vertical-align: middle;\n",
       "    }\n",
       "\n",
       "    .dataframe tbody tr th {\n",
       "        vertical-align: top;\n",
       "    }\n",
       "\n",
       "    .dataframe thead th {\n",
       "        text-align: right;\n",
       "    }\n",
       "</style>\n",
       "<table border=\"1\" class=\"dataframe\">\n",
       "  <thead>\n",
       "    <tr style=\"text-align: right;\">\n",
       "      <th></th>\n",
       "      <th>Purchase Count</th>\n",
       "      <th>Average purchase price</th>\n",
       "      <th>Avg. Purchase per person</th>\n",
       "    </tr>\n",
       "  </thead>\n",
       "  <tbody>\n",
       "    <tr>\n",
       "      <td>Female</td>\n",
       "      <td>81</td>\n",
       "      <td>3.20</td>\n",
       "      <td>4.47</td>\n",
       "    </tr>\n",
       "    <tr>\n",
       "      <td>Male</td>\n",
       "      <td>484</td>\n",
       "      <td>3.02</td>\n",
       "      <td>4.07</td>\n",
       "    </tr>\n",
       "    <tr>\n",
       "      <td>Other / Non-Disclosed</td>\n",
       "      <td>11</td>\n",
       "      <td>3.35</td>\n",
       "      <td>4.56</td>\n",
       "    </tr>\n",
       "  </tbody>\n",
       "</table>\n",
       "</div>"
      ],
      "text/plain": [
       "                       Purchase Count  Average purchase price  \\\n",
       "Female                             81                    3.20   \n",
       "Male                              484                    3.02   \n",
       "Other / Non-Disclosed              11                    3.35   \n",
       "\n",
       "                       Avg. Purchase per person  \n",
       "Female                                     4.47  \n",
       "Male                                       4.07  \n",
       "Other / Non-Disclosed                      4.56  "
      ]
     },
     "execution_count": 24,
     "metadata": {},
     "output_type": "execute_result"
    }
   ],
   "source": [
    "#create a variable that calculates the number of purchases by gender.\n",
    "purchase_count = purchase_data[\"Gender\"].value_counts()\n",
    "\n",
    "#test run\n",
    "#purchase_count\n",
    "\n",
    "# calculate average purchase price by gender\n",
    "average_purchase_gender = purchase_data.groupby([\"Gender\"]).mean()[\"Price\"]\n",
    "\n",
    "# normalized total = male purchase total /  # of males\n",
    "#normalized_total = \n",
    "#two lines above were what Roger suggested I should use to get avg. purchase per person by gender\n",
    "#I didn't quite understand his logic, so I went a different route, but kept this just in case.\n",
    "\n",
    "#how much did everybody buy / total count \n",
    "total_purchase_by_gender = purchase_data.groupby([\"Gender\"]).sum()[\"Price\"]\n",
    "\n",
    "# What is the average purchase per person by gender?\n",
    "avg_purchase_by_gender = total_purchase_by_gender/gender_demo[\"Total Count\"]\n",
    "\n",
    "\n",
    "#making a dataframe to hold the results\n",
    "analysis_gender = pd.DataFrame({\"Purchase Count\":gender_demo_totals,\n",
    "                              \"Average purchase price\":average_purchase_gender,\n",
    "                                \"Avg. Purchase per person\":avg_purchase_by_gender})\n",
    "analysis_gender = analysis_gender.round(2)\n",
    "#test run\n",
    "analysis_gender\n",
    "\n"
   ]
  },
  {
   "cell_type": "markdown",
   "metadata": {},
   "source": [
    "## Age Demographics"
   ]
  },
  {
   "cell_type": "markdown",
   "metadata": {},
   "source": [
    "* Establish bins for ages\n",
    "\n",
    "\n",
    "* Categorize the existing players using the age bins. Hint: use pd.cut()\n",
    "\n",
    "\n",
    "* Calculate the numbers and percentages by age group\n",
    "\n",
    "\n",
    "* Create a summary data frame to hold the results\n",
    "\n",
    "\n",
    "* Optional: round the percentage column to two decimal points\n",
    "\n",
    "\n",
    "* Display Age Demographics Table\n"
   ]
  },
  {
   "cell_type": "code",
   "execution_count": 7,
   "metadata": {},
   "outputs": [
    {
     "data": {
      "text/html": [
       "<div>\n",
       "<style scoped>\n",
       "    .dataframe tbody tr th:only-of-type {\n",
       "        vertical-align: middle;\n",
       "    }\n",
       "\n",
       "    .dataframe tbody tr th {\n",
       "        vertical-align: top;\n",
       "    }\n",
       "\n",
       "    .dataframe thead th {\n",
       "        text-align: right;\n",
       "    }\n",
       "</style>\n",
       "<table border=\"1\" class=\"dataframe\">\n",
       "  <thead>\n",
       "    <tr style=\"text-align: right;\">\n",
       "      <th></th>\n",
       "      <th>Number of players in age groups</th>\n",
       "      <th>percent of players in age groups</th>\n",
       "    </tr>\n",
       "  </thead>\n",
       "  <tbody>\n",
       "    <tr>\n",
       "      <td>0 - 7</td>\n",
       "      <td>34</td>\n",
       "      <td>4.86</td>\n",
       "    </tr>\n",
       "    <tr>\n",
       "      <td>8 - 14</td>\n",
       "      <td>74</td>\n",
       "      <td>10.57</td>\n",
       "    </tr>\n",
       "    <tr>\n",
       "      <td>15 - 21</td>\n",
       "      <td>248</td>\n",
       "      <td>35.43</td>\n",
       "    </tr>\n",
       "    <tr>\n",
       "      <td>22 - 29</td>\n",
       "      <td>115</td>\n",
       "      <td>16.43</td>\n",
       "    </tr>\n",
       "    <tr>\n",
       "      <td>30 - 39</td>\n",
       "      <td>62</td>\n",
       "      <td>8.86</td>\n",
       "    </tr>\n",
       "    <tr>\n",
       "      <td>40 - 49</td>\n",
       "      <td>31</td>\n",
       "      <td>4.43</td>\n",
       "    </tr>\n",
       "    <tr>\n",
       "      <td>= or greater than 50</td>\n",
       "      <td>12</td>\n",
       "      <td>1.71</td>\n",
       "    </tr>\n",
       "  </tbody>\n",
       "</table>\n",
       "</div>"
      ],
      "text/plain": [
       "                      Number of players in age groups  \\\n",
       "0 - 7                                              34   \n",
       "8 - 14                                             74   \n",
       "15 - 21                                           248   \n",
       "22 - 29                                           115   \n",
       "30 - 39                                            62   \n",
       "40 - 49                                            31   \n",
       "= or greater than 50                               12   \n",
       "\n",
       "                      percent of players in age groups  \n",
       "0 - 7                                             4.86  \n",
       "8 - 14                                           10.57  \n",
       "15 - 21                                          35.43  \n",
       "22 - 29                                          16.43  \n",
       "30 - 39                                           8.86  \n",
       "40 - 49                                           4.43  \n",
       "= or greater than 50                              1.71  "
      ]
     },
     "execution_count": 7,
     "metadata": {},
     "output_type": "execute_result"
    }
   ],
   "source": [
    "#creating a variable for the age column in purchase_data \n",
    "age = player_demographics[\"Age\"] \n",
    "\n",
    "#creating a variable that categorizes the players into 7 bins.\n",
    "age_groups = pd.cut(age, bins=7, labels=[\"0 - 7\", \"8 - 14\", \"15 - 21\", \"22 - 29\", \"30 - 39\", \"40 - 49\",\n",
    "                                         \"= or greater than 50\"])\n",
    "\n",
    "#a variable that holds the counts of each age group\n",
    "groups_totals = age_groups.value_counts()\n",
    "#groups_totals   test run.\n",
    "\n",
    "#a variable that holds the percentage of players in each age group.\n",
    "groups_percent = groups_totals/groups_totals.count()\n",
    "#groups_percent  test run.\n",
    "\n",
    "analysis_age = pd.DataFrame({\"Number of players in age groups\":groups_totals,\n",
    "                              \"percent of players in age groups\":groups_percent})\n",
    "\n",
    "analysis_age = analysis_age.round(2)\n",
    "analysis_age.sort_index()"
   ]
  },
  {
   "cell_type": "markdown",
   "metadata": {},
   "source": [
    "## Purchasing Analysis (Age)"
   ]
  },
  {
   "cell_type": "markdown",
   "metadata": {},
   "source": [
    "* Bin the purchase_data data frame by age\n",
    "\n",
    "\n",
    "* Run basic calculations to obtain purchase count, avg. purchase price, avg. purchase total per person etc. in the table below\n",
    "\n",
    "\n",
    "* Create a summary data frame to hold the results\n",
    "\n",
    "\n",
    "* Optional: give the displayed data cleaner formatting\n",
    "\n",
    "\n",
    "* Display the summary data frame"
   ]
  },
  {
   "cell_type": "code",
   "execution_count": 27,
   "metadata": {},
   "outputs": [
    {
     "data": {
      "text/html": [
       "<div>\n",
       "<style scoped>\n",
       "    .dataframe tbody tr th:only-of-type {\n",
       "        vertical-align: middle;\n",
       "    }\n",
       "\n",
       "    .dataframe tbody tr th {\n",
       "        vertical-align: top;\n",
       "    }\n",
       "\n",
       "    .dataframe thead th {\n",
       "        text-align: right;\n",
       "    }\n",
       "</style>\n",
       "<table border=\"1\" class=\"dataframe\">\n",
       "  <thead>\n",
       "    <tr style=\"text-align: right;\">\n",
       "      <th></th>\n",
       "      <th>Purchase count by age</th>\n",
       "      <th>Purchase Totals by age</th>\n",
       "      <th>Average purchase by age</th>\n",
       "    </tr>\n",
       "    <tr>\n",
       "      <th>Age</th>\n",
       "      <th></th>\n",
       "      <th></th>\n",
       "      <th></th>\n",
       "    </tr>\n",
       "  </thead>\n",
       "  <tbody>\n",
       "    <tr>\n",
       "      <td>0 - 7</td>\n",
       "      <td>34</td>\n",
       "      <td>109.94</td>\n",
       "      <td>3.23</td>\n",
       "    </tr>\n",
       "    <tr>\n",
       "      <td>15 - 21</td>\n",
       "      <td>248</td>\n",
       "      <td>753.75</td>\n",
       "      <td>3.04</td>\n",
       "    </tr>\n",
       "    <tr>\n",
       "      <td>22 - 29</td>\n",
       "      <td>115</td>\n",
       "      <td>353.23</td>\n",
       "      <td>3.07</td>\n",
       "    </tr>\n",
       "    <tr>\n",
       "      <td>30 - 39</td>\n",
       "      <td>62</td>\n",
       "      <td>180.62</td>\n",
       "      <td>2.91</td>\n",
       "    </tr>\n",
       "    <tr>\n",
       "      <td>40 - 49</td>\n",
       "      <td>31</td>\n",
       "      <td>108.81</td>\n",
       "      <td>3.51</td>\n",
       "    </tr>\n",
       "    <tr>\n",
       "      <td>8 - 14</td>\n",
       "      <td>74</td>\n",
       "      <td>225.85</td>\n",
       "      <td>3.05</td>\n",
       "    </tr>\n",
       "    <tr>\n",
       "      <td>= or greater than 50</td>\n",
       "      <td>12</td>\n",
       "      <td>36.45</td>\n",
       "      <td>3.04</td>\n",
       "    </tr>\n",
       "  </tbody>\n",
       "</table>\n",
       "</div>"
      ],
      "text/plain": [
       "                      Purchase count by age  Purchase Totals by age  \\\n",
       "Age                                                                   \n",
       "0 - 7                                    34                  109.94   \n",
       "15 - 21                                 248                  753.75   \n",
       "22 - 29                                 115                  353.23   \n",
       "30 - 39                                  62                  180.62   \n",
       "40 - 49                                  31                  108.81   \n",
       "8 - 14                                   74                  225.85   \n",
       "= or greater than 50                     12                   36.45   \n",
       "\n",
       "                      Average purchase by age  \n",
       "Age                                            \n",
       "0 - 7                                    3.23  \n",
       "15 - 21                                  3.04  \n",
       "22 - 29                                  3.07  \n",
       "30 - 39                                  2.91  \n",
       "40 - 49                                  3.51  \n",
       "8 - 14                                   3.05  \n",
       "= or greater than 50                     3.04  "
      ]
     },
     "execution_count": 27,
     "metadata": {},
     "output_type": "execute_result"
    }
   ],
   "source": [
    "#setting a variable for holding age column in purchase_data \n",
    "age = purchase_data[\"Age\"] \n",
    "\n",
    "#creating a variable that categorizes the players into 7 bins.\n",
    "age_groups[\"age_range\"] = pd.cut(purchase_data[\"Age\"], bins=7, labels=[\"0 - 7\", \"8 - 14\", \"15 - 21\", \"22 - 29\",\n",
    "                                                                       \"30 - 39\", \"40 - 49\",\n",
    "                                         \"= or greater than 50\"])\n",
    "\n",
    "#setting variables for purchase count, purchase total and average purchase by age\n",
    "purch_count = purchase_data.groupby(age_groups).count()[\"Price\"]\n",
    "purch_total = purchase_data.groupby(age_groups).sum()[\"Price\"]\n",
    "purch_avg = purchase_data.groupby(age_groups).mean()[\"Price\"]\n",
    "\n",
    "#normalizing data by \n",
    "normalize_total = purch_total/analysis_age[\"Number of players in age groups\"]\n",
    "analysis_age_purch = pd.DataFrame({\"Purchase count by age\":purch_count,\n",
    "                              \"Purchase Totals by age\":purch_total, \"Average purchase by age\":purch_avg})\n",
    "\n",
    "#cleaning up summary table\n",
    "analysis_age_purch = analysis_age_purch.round(2)\n",
    "analysis_age_purch "
   ]
  },
  {
   "cell_type": "markdown",
   "metadata": {},
   "source": [
    "# Top Spenders"
   ]
  },
  {
   "cell_type": "markdown",
   "metadata": {},
   "source": [
    "* Run basic calculations to obtain the results in the table below\n",
    "\n",
    "\n",
    "* Create a summary data frame to hold the results\n",
    "\n",
    "\n",
    "* Sort the total purchase value column in descending order\n",
    "\n",
    "\n",
    "* Optional: give the displayed data cleaner formatting\n",
    "\n",
    "\n",
    "* Display a preview of the summary data frame\n",
    "\n"
   ]
  },
  {
   "cell_type": "code",
   "execution_count": null,
   "metadata": {},
   "outputs": [],
   "source": []
  },
  {
   "cell_type": "markdown",
   "metadata": {},
   "source": [
    "## Most Popular Items"
   ]
  },
  {
   "cell_type": "markdown",
   "metadata": {},
   "source": [
    "* Retrieve the Item ID, Item Name, and Item Price columns\n",
    "\n",
    "\n",
    "* Group by Item ID and Item Name. Perform calculations to obtain purchase count, item price, and total purchase value\n",
    "\n",
    "\n",
    "* Create a summary data frame to hold the results\n",
    "\n",
    "\n",
    "* Sort the purchase count column in descending order\n",
    "\n",
    "\n",
    "* Optional: give the displayed data cleaner formatting\n",
    "\n",
    "\n",
    "* Display a preview of the summary data frame\n",
    "\n"
   ]
  },
  {
   "cell_type": "code",
   "execution_count": null,
   "metadata": {},
   "outputs": [],
   "source": []
  },
  {
   "cell_type": "markdown",
   "metadata": {},
   "source": [
    "## Most Profitable Items"
   ]
  },
  {
   "cell_type": "markdown",
   "metadata": {},
   "source": [
    "* Sort the above table by total purchase value in descending order\n",
    "\n",
    "\n",
    "* Optional: give the displayed data cleaner formatting\n",
    "\n",
    "\n",
    "* Display a preview of the data frame\n",
    "\n"
   ]
  },
  {
   "cell_type": "code",
   "execution_count": null,
   "metadata": {
    "scrolled": true
   },
   "outputs": [],
   "source": []
  }
 ],
 "metadata": {
  "anaconda-cloud": {},
  "kernel_info": {
   "name": "python3"
  },
  "kernelspec": {
   "display_name": "Python 3",
   "language": "python",
   "name": "python3"
  },
  "language_info": {
   "codemirror_mode": {
    "name": "ipython",
    "version": 3
   },
   "file_extension": ".py",
   "mimetype": "text/x-python",
   "name": "python",
   "nbconvert_exporter": "python",
   "pygments_lexer": "ipython3",
   "version": "3.7.4"
  },
  "latex_envs": {
   "LaTeX_envs_menu_present": true,
   "autoclose": false,
   "autocomplete": true,
   "bibliofile": "biblio.bib",
   "cite_by": "apalike",
   "current_citInitial": 1,
   "eqLabelWithNumbers": true,
   "eqNumInitial": 1,
   "hotkeys": {
    "equation": "Ctrl-E",
    "itemize": "Ctrl-I"
   },
   "labels_anchors": false,
   "latex_user_defs": false,
   "report_style_numbering": false,
   "user_envs_cfg": false
  },
  "nteract": {
   "version": "0.2.0"
  }
 },
 "nbformat": 4,
 "nbformat_minor": 2
}
